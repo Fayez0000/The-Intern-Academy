{
  "nbformat": 4,
  "nbformat_minor": 0,
  "metadata": {
    "colab": {
      "name": "THE INTERN ACCEMEDY.ipynb",
      "provenance": []
    },
    "kernelspec": {
      "name": "python3",
      "display_name": "Python 3"
    },
    "language_info": {
      "name": "python"
    }
  },
  "cells": [
    {
      "cell_type": "markdown",
      "metadata": {
        "id": "5Ujxx60lKJdm"
      },
      "source": [
        "## **Importing basic librabies**\n"
      ]
    },
    {
      "cell_type": "code",
      "metadata": {
        "id": "iCOaoGuxKQZ9"
      },
      "source": [
        "import numpy as np\n",
        "import pandas as pd \n",
        "import matplotlib.pyplot as plt\n",
        "import warnings\n",
        "import seaborn as sns\n",
        "warnings.filterwarnings('ignore')"
      ],
      "execution_count": 2,
      "outputs": []
    },
    {
      "cell_type": "markdown",
      "metadata": {
        "id": "Iug2nkc_8W5U"
      },
      "source": [
        "## Loading the dateset"
      ]
    },
    {
      "cell_type": "code",
      "metadata": {
        "id": "YV-OzV00LRj2"
      },
      "source": [
        "path=\"/100 Sales Records.csv\""
      ],
      "execution_count": 3,
      "outputs": []
    },
    {
      "cell_type": "code",
      "metadata": {
        "id": "aRHpTZjWKUY9"
      },
      "source": [
        "dt = pd.read_csv(path)"
      ],
      "execution_count": 6,
      "outputs": []
    },
    {
      "cell_type": "code",
      "metadata": {
        "colab": {
          "base_uri": "https://localhost:8080/",
          "height": 293
        },
        "id": "nb1Of4IHLalX",
        "outputId": "a48b6086-7491-47c1-eabe-648a387d6fbb"
      },
      "source": [
        "dt.head()\n"
      ],
      "execution_count": 7,
      "outputs": [
        {
          "output_type": "execute_result",
          "data": {
            "text/html": [
              "<div>\n",
              "<style scoped>\n",
              "    .dataframe tbody tr th:only-of-type {\n",
              "        vertical-align: middle;\n",
              "    }\n",
              "\n",
              "    .dataframe tbody tr th {\n",
              "        vertical-align: top;\n",
              "    }\n",
              "\n",
              "    .dataframe thead th {\n",
              "        text-align: right;\n",
              "    }\n",
              "</style>\n",
              "<table border=\"1\" class=\"dataframe\">\n",
              "  <thead>\n",
              "    <tr style=\"text-align: right;\">\n",
              "      <th></th>\n",
              "      <th>Region</th>\n",
              "      <th>Country</th>\n",
              "      <th>Item Type</th>\n",
              "      <th>Sales Channel</th>\n",
              "      <th>Order Priority</th>\n",
              "      <th>Order Date</th>\n",
              "      <th>Order ID</th>\n",
              "      <th>Ship Date</th>\n",
              "      <th>Units Sold</th>\n",
              "      <th>Unit Price</th>\n",
              "      <th>Unit Cost</th>\n",
              "      <th>Total Revenue</th>\n",
              "      <th>Total Cost</th>\n",
              "      <th>Total Profit</th>\n",
              "    </tr>\n",
              "  </thead>\n",
              "  <tbody>\n",
              "    <tr>\n",
              "      <th>0</th>\n",
              "      <td>Australia and Oceania</td>\n",
              "      <td>Tuvalu</td>\n",
              "      <td>Baby Food</td>\n",
              "      <td>Offline</td>\n",
              "      <td>H</td>\n",
              "      <td>5/28/2010</td>\n",
              "      <td>669165933</td>\n",
              "      <td>6/27/2010</td>\n",
              "      <td>9925</td>\n",
              "      <td>255.28</td>\n",
              "      <td>159.42</td>\n",
              "      <td>2533654.00</td>\n",
              "      <td>1582243.50</td>\n",
              "      <td>951410.50</td>\n",
              "    </tr>\n",
              "    <tr>\n",
              "      <th>1</th>\n",
              "      <td>Central America and the Caribbean</td>\n",
              "      <td>Grenada</td>\n",
              "      <td>Cereal</td>\n",
              "      <td>Online</td>\n",
              "      <td>C</td>\n",
              "      <td>8/22/2012</td>\n",
              "      <td>963881480</td>\n",
              "      <td>9/15/2012</td>\n",
              "      <td>2804</td>\n",
              "      <td>205.70</td>\n",
              "      <td>117.11</td>\n",
              "      <td>576782.80</td>\n",
              "      <td>328376.44</td>\n",
              "      <td>248406.36</td>\n",
              "    </tr>\n",
              "    <tr>\n",
              "      <th>2</th>\n",
              "      <td>Europe</td>\n",
              "      <td>Russia</td>\n",
              "      <td>Office Supplies</td>\n",
              "      <td>Offline</td>\n",
              "      <td>L</td>\n",
              "      <td>05-02-2014</td>\n",
              "      <td>341417157</td>\n",
              "      <td>05-08-2014</td>\n",
              "      <td>1779</td>\n",
              "      <td>651.21</td>\n",
              "      <td>524.96</td>\n",
              "      <td>1158502.59</td>\n",
              "      <td>933903.84</td>\n",
              "      <td>224598.75</td>\n",
              "    </tr>\n",
              "    <tr>\n",
              "      <th>3</th>\n",
              "      <td>Sub-Saharan Africa</td>\n",
              "      <td>Sao Tome and Principe</td>\n",
              "      <td>Fruits</td>\n",
              "      <td>Online</td>\n",
              "      <td>C</td>\n",
              "      <td>6/20/2014</td>\n",
              "      <td>514321792</td>\n",
              "      <td>07-05-2014</td>\n",
              "      <td>8102</td>\n",
              "      <td>9.33</td>\n",
              "      <td>6.92</td>\n",
              "      <td>75591.66</td>\n",
              "      <td>56065.84</td>\n",
              "      <td>19525.82</td>\n",
              "    </tr>\n",
              "    <tr>\n",
              "      <th>4</th>\n",
              "      <td>Sub-Saharan Africa</td>\n",
              "      <td>Rwanda</td>\n",
              "      <td>Office Supplies</td>\n",
              "      <td>Offline</td>\n",
              "      <td>L</td>\n",
              "      <td>02-01-2013</td>\n",
              "      <td>115456712</td>\n",
              "      <td>02-06-2013</td>\n",
              "      <td>5062</td>\n",
              "      <td>651.21</td>\n",
              "      <td>524.96</td>\n",
              "      <td>3296425.02</td>\n",
              "      <td>2657347.52</td>\n",
              "      <td>639077.50</td>\n",
              "    </tr>\n",
              "  </tbody>\n",
              "</table>\n",
              "</div>"
            ],
            "text/plain": [
              "                              Region  ... Total Profit\n",
              "0              Australia and Oceania  ...    951410.50\n",
              "1  Central America and the Caribbean  ...    248406.36\n",
              "2                             Europe  ...    224598.75\n",
              "3                 Sub-Saharan Africa  ...     19525.82\n",
              "4                 Sub-Saharan Africa  ...    639077.50\n",
              "\n",
              "[5 rows x 14 columns]"
            ]
          },
          "metadata": {},
          "execution_count": 7
        }
      ]
    },
    {
      "cell_type": "code",
      "metadata": {
        "colab": {
          "base_uri": "https://localhost:8080/",
          "height": 293
        },
        "id": "pnub4aA3LjHn",
        "outputId": "5d19f221-11bf-4a0f-8ba6-5fc6f8e8067d"
      },
      "source": [
        "dt.tail()"
      ],
      "execution_count": 8,
      "outputs": [
        {
          "output_type": "execute_result",
          "data": {
            "text/html": [
              "<div>\n",
              "<style scoped>\n",
              "    .dataframe tbody tr th:only-of-type {\n",
              "        vertical-align: middle;\n",
              "    }\n",
              "\n",
              "    .dataframe tbody tr th {\n",
              "        vertical-align: top;\n",
              "    }\n",
              "\n",
              "    .dataframe thead th {\n",
              "        text-align: right;\n",
              "    }\n",
              "</style>\n",
              "<table border=\"1\" class=\"dataframe\">\n",
              "  <thead>\n",
              "    <tr style=\"text-align: right;\">\n",
              "      <th></th>\n",
              "      <th>Region</th>\n",
              "      <th>Country</th>\n",
              "      <th>Item Type</th>\n",
              "      <th>Sales Channel</th>\n",
              "      <th>Order Priority</th>\n",
              "      <th>Order Date</th>\n",
              "      <th>Order ID</th>\n",
              "      <th>Ship Date</th>\n",
              "      <th>Units Sold</th>\n",
              "      <th>Unit Price</th>\n",
              "      <th>Unit Cost</th>\n",
              "      <th>Total Revenue</th>\n",
              "      <th>Total Cost</th>\n",
              "      <th>Total Profit</th>\n",
              "    </tr>\n",
              "  </thead>\n",
              "  <tbody>\n",
              "    <tr>\n",
              "      <th>95</th>\n",
              "      <td>Sub-Saharan Africa</td>\n",
              "      <td>Mali</td>\n",
              "      <td>Clothes</td>\n",
              "      <td>Online</td>\n",
              "      <td>M</td>\n",
              "      <td>7/26/2011</td>\n",
              "      <td>512878119</td>\n",
              "      <td>09-03-2011</td>\n",
              "      <td>888</td>\n",
              "      <td>109.28</td>\n",
              "      <td>35.84</td>\n",
              "      <td>97040.64</td>\n",
              "      <td>31825.92</td>\n",
              "      <td>65214.72</td>\n",
              "    </tr>\n",
              "    <tr>\n",
              "      <th>96</th>\n",
              "      <td>Asia</td>\n",
              "      <td>Malaysia</td>\n",
              "      <td>Fruits</td>\n",
              "      <td>Offline</td>\n",
              "      <td>L</td>\n",
              "      <td>11-11-2011</td>\n",
              "      <td>810711038</td>\n",
              "      <td>12/28/2011</td>\n",
              "      <td>6267</td>\n",
              "      <td>9.33</td>\n",
              "      <td>6.92</td>\n",
              "      <td>58471.11</td>\n",
              "      <td>43367.64</td>\n",
              "      <td>15103.47</td>\n",
              "    </tr>\n",
              "    <tr>\n",
              "      <th>97</th>\n",
              "      <td>Sub-Saharan Africa</td>\n",
              "      <td>Sierra Leone</td>\n",
              "      <td>Vegetables</td>\n",
              "      <td>Offline</td>\n",
              "      <td>C</td>\n",
              "      <td>06-01-2016</td>\n",
              "      <td>728815257</td>\n",
              "      <td>6/29/2016</td>\n",
              "      <td>1485</td>\n",
              "      <td>154.06</td>\n",
              "      <td>90.93</td>\n",
              "      <td>228779.10</td>\n",
              "      <td>135031.05</td>\n",
              "      <td>93748.05</td>\n",
              "    </tr>\n",
              "    <tr>\n",
              "      <th>98</th>\n",
              "      <td>North America</td>\n",
              "      <td>Mexico</td>\n",
              "      <td>Personal Care</td>\n",
              "      <td>Offline</td>\n",
              "      <td>M</td>\n",
              "      <td>7/30/2015</td>\n",
              "      <td>559427106</td>\n",
              "      <td>08-08-2015</td>\n",
              "      <td>5767</td>\n",
              "      <td>81.73</td>\n",
              "      <td>56.67</td>\n",
              "      <td>471336.91</td>\n",
              "      <td>326815.89</td>\n",
              "      <td>144521.02</td>\n",
              "    </tr>\n",
              "    <tr>\n",
              "      <th>99</th>\n",
              "      <td>Sub-Saharan Africa</td>\n",
              "      <td>Mozambique</td>\n",
              "      <td>Household</td>\n",
              "      <td>Offline</td>\n",
              "      <td>L</td>\n",
              "      <td>02-10-2012</td>\n",
              "      <td>665095412</td>\n",
              "      <td>2/15/2012</td>\n",
              "      <td>5367</td>\n",
              "      <td>668.27</td>\n",
              "      <td>502.54</td>\n",
              "      <td>3586605.09</td>\n",
              "      <td>2697132.18</td>\n",
              "      <td>889472.91</td>\n",
              "    </tr>\n",
              "  </tbody>\n",
              "</table>\n",
              "</div>"
            ],
            "text/plain": [
              "                Region       Country  ...  Total Cost Total Profit\n",
              "95  Sub-Saharan Africa          Mali  ...    31825.92     65214.72\n",
              "96                Asia      Malaysia  ...    43367.64     15103.47\n",
              "97  Sub-Saharan Africa  Sierra Leone  ...   135031.05     93748.05\n",
              "98       North America        Mexico  ...   326815.89    144521.02\n",
              "99  Sub-Saharan Africa    Mozambique  ...  2697132.18    889472.91\n",
              "\n",
              "[5 rows x 14 columns]"
            ]
          },
          "metadata": {},
          "execution_count": 8
        }
      ]
    },
    {
      "cell_type": "code",
      "metadata": {
        "colab": {
          "base_uri": "https://localhost:8080/",
          "height": 300
        },
        "id": "-AqQvnMDLmF-",
        "outputId": "508ecbea-561c-48d2-885f-4aaff5396b63"
      },
      "source": [
        "dt.describe()"
      ],
      "execution_count": 9,
      "outputs": [
        {
          "output_type": "execute_result",
          "data": {
            "text/html": [
              "<div>\n",
              "<style scoped>\n",
              "    .dataframe tbody tr th:only-of-type {\n",
              "        vertical-align: middle;\n",
              "    }\n",
              "\n",
              "    .dataframe tbody tr th {\n",
              "        vertical-align: top;\n",
              "    }\n",
              "\n",
              "    .dataframe thead th {\n",
              "        text-align: right;\n",
              "    }\n",
              "</style>\n",
              "<table border=\"1\" class=\"dataframe\">\n",
              "  <thead>\n",
              "    <tr style=\"text-align: right;\">\n",
              "      <th></th>\n",
              "      <th>Order ID</th>\n",
              "      <th>Units Sold</th>\n",
              "      <th>Unit Price</th>\n",
              "      <th>Unit Cost</th>\n",
              "      <th>Total Revenue</th>\n",
              "      <th>Total Cost</th>\n",
              "      <th>Total Profit</th>\n",
              "    </tr>\n",
              "  </thead>\n",
              "  <tbody>\n",
              "    <tr>\n",
              "      <th>count</th>\n",
              "      <td>1.000000e+02</td>\n",
              "      <td>100.000000</td>\n",
              "      <td>100.000000</td>\n",
              "      <td>100.000000</td>\n",
              "      <td>1.000000e+02</td>\n",
              "      <td>1.000000e+02</td>\n",
              "      <td>1.000000e+02</td>\n",
              "    </tr>\n",
              "    <tr>\n",
              "      <th>mean</th>\n",
              "      <td>5.550204e+08</td>\n",
              "      <td>5128.710000</td>\n",
              "      <td>276.761300</td>\n",
              "      <td>191.048000</td>\n",
              "      <td>1.373488e+06</td>\n",
              "      <td>9.318057e+05</td>\n",
              "      <td>4.416820e+05</td>\n",
              "    </tr>\n",
              "    <tr>\n",
              "      <th>std</th>\n",
              "      <td>2.606153e+08</td>\n",
              "      <td>2794.484562</td>\n",
              "      <td>235.592241</td>\n",
              "      <td>188.208181</td>\n",
              "      <td>1.460029e+06</td>\n",
              "      <td>1.083938e+06</td>\n",
              "      <td>4.385379e+05</td>\n",
              "    </tr>\n",
              "    <tr>\n",
              "      <th>min</th>\n",
              "      <td>1.146066e+08</td>\n",
              "      <td>124.000000</td>\n",
              "      <td>9.330000</td>\n",
              "      <td>6.920000</td>\n",
              "      <td>4.870260e+03</td>\n",
              "      <td>3.612240e+03</td>\n",
              "      <td>1.258020e+03</td>\n",
              "    </tr>\n",
              "    <tr>\n",
              "      <th>25%</th>\n",
              "      <td>3.389225e+08</td>\n",
              "      <td>2836.250000</td>\n",
              "      <td>81.730000</td>\n",
              "      <td>35.840000</td>\n",
              "      <td>2.687212e+05</td>\n",
              "      <td>1.688680e+05</td>\n",
              "      <td>1.214436e+05</td>\n",
              "    </tr>\n",
              "    <tr>\n",
              "      <th>50%</th>\n",
              "      <td>5.577086e+08</td>\n",
              "      <td>5382.500000</td>\n",
              "      <td>179.880000</td>\n",
              "      <td>107.275000</td>\n",
              "      <td>7.523144e+05</td>\n",
              "      <td>3.635664e+05</td>\n",
              "      <td>2.907680e+05</td>\n",
              "    </tr>\n",
              "    <tr>\n",
              "      <th>75%</th>\n",
              "      <td>7.907551e+08</td>\n",
              "      <td>7369.000000</td>\n",
              "      <td>437.200000</td>\n",
              "      <td>263.330000</td>\n",
              "      <td>2.212045e+06</td>\n",
              "      <td>1.613870e+06</td>\n",
              "      <td>6.358288e+05</td>\n",
              "    </tr>\n",
              "    <tr>\n",
              "      <th>max</th>\n",
              "      <td>9.940222e+08</td>\n",
              "      <td>9925.000000</td>\n",
              "      <td>668.270000</td>\n",
              "      <td>524.960000</td>\n",
              "      <td>5.997055e+06</td>\n",
              "      <td>4.509794e+06</td>\n",
              "      <td>1.719922e+06</td>\n",
              "    </tr>\n",
              "  </tbody>\n",
              "</table>\n",
              "</div>"
            ],
            "text/plain": [
              "           Order ID   Units Sold  ...    Total Cost  Total Profit\n",
              "count  1.000000e+02   100.000000  ...  1.000000e+02  1.000000e+02\n",
              "mean   5.550204e+08  5128.710000  ...  9.318057e+05  4.416820e+05\n",
              "std    2.606153e+08  2794.484562  ...  1.083938e+06  4.385379e+05\n",
              "min    1.146066e+08   124.000000  ...  3.612240e+03  1.258020e+03\n",
              "25%    3.389225e+08  2836.250000  ...  1.688680e+05  1.214436e+05\n",
              "50%    5.577086e+08  5382.500000  ...  3.635664e+05  2.907680e+05\n",
              "75%    7.907551e+08  7369.000000  ...  1.613870e+06  6.358288e+05\n",
              "max    9.940222e+08  9925.000000  ...  4.509794e+06  1.719922e+06\n",
              "\n",
              "[8 rows x 7 columns]"
            ]
          },
          "metadata": {},
          "execution_count": 9
        }
      ]
    },
    {
      "cell_type": "code",
      "metadata": {
        "colab": {
          "base_uri": "https://localhost:8080/"
        },
        "id": "YqzFIYElLreu",
        "outputId": "58b904c4-f21c-439e-f26f-d3bbcea270a7"
      },
      "source": [
        "dt.shape"
      ],
      "execution_count": 10,
      "outputs": [
        {
          "output_type": "execute_result",
          "data": {
            "text/plain": [
              "(100, 14)"
            ]
          },
          "metadata": {},
          "execution_count": 10
        }
      ]
    },
    {
      "cell_type": "code",
      "metadata": {
        "colab": {
          "base_uri": "https://localhost:8080/"
        },
        "id": "J6DBj3ydLvuA",
        "outputId": "0eabd2a6-aeff-4912-c42a-a7fcdcffd6b8"
      },
      "source": [
        "dt.isnull().sum()"
      ],
      "execution_count": 11,
      "outputs": [
        {
          "output_type": "execute_result",
          "data": {
            "text/plain": [
              "Region            0\n",
              "Country           0\n",
              "Item Type         0\n",
              "Sales Channel     0\n",
              "Order Priority    0\n",
              "Order Date        0\n",
              "Order ID          0\n",
              "Ship Date         0\n",
              "Units Sold        0\n",
              "Unit Price        0\n",
              "Unit Cost         0\n",
              "Total Revenue     0\n",
              "Total Cost        0\n",
              "Total Profit      0\n",
              "dtype: int64"
            ]
          },
          "metadata": {},
          "execution_count": 11
        }
      ]
    },
    {
      "cell_type": "markdown",
      "metadata": {
        "id": "3ZBT6W5W8kb1"
      },
      "source": [
        "## Converting date object into date"
      ]
    },
    {
      "cell_type": "code",
      "metadata": {
        "id": "-6HdDFuZMPVm"
      },
      "source": [
        "dt['Ship Date'] = pd.to_datetime(dt['Ship Date'])"
      ],
      "execution_count": 12,
      "outputs": []
    },
    {
      "cell_type": "code",
      "metadata": {
        "colab": {
          "base_uri": "https://localhost:8080/"
        },
        "id": "7jyxhhDrz-Va",
        "outputId": "b137f499-c44f-463e-bcfa-97af9064444f"
      },
      "source": [
        "dt['Ship Date'].min()"
      ],
      "execution_count": 14,
      "outputs": [
        {
          "output_type": "execute_result",
          "data": {
            "text/plain": [
              "Timestamp('2010-02-25 00:00:00')"
            ]
          },
          "metadata": {},
          "execution_count": 14
        }
      ]
    },
    {
      "cell_type": "code",
      "metadata": {
        "colab": {
          "base_uri": "https://localhost:8080/"
        },
        "id": "NKIu1HPc0A8D",
        "outputId": "40b0ddcb-fa01-4b83-9fe7-50cebdf26ddc"
      },
      "source": [
        "dt['Ship Date'].max()"
      ],
      "execution_count": 15,
      "outputs": [
        {
          "output_type": "execute_result",
          "data": {
            "text/plain": [
              "Timestamp('2017-06-17 00:00:00')"
            ]
          },
          "metadata": {},
          "execution_count": 15
        }
      ]
    },
    {
      "cell_type": "markdown",
      "metadata": {
        "id": "c0hutF5J8o56"
      },
      "source": [
        "\n",
        "Year wise sales trend"
      ]
    },
    {
      "cell_type": "code",
      "metadata": {
        "colab": {
          "base_uri": "https://localhost:8080/"
        },
        "id": "9ErV24VJ35Y8",
        "outputId": "6350d9ba-2107-4082-9e25-f2cc86663550"
      },
      "source": [
        "\n",
        "dt['Year'] = dt['Ship Date'].apply(lambda x: x.strftime('%Y'))\n",
        "dt['Year']"
      ],
      "execution_count": 30,
      "outputs": [
        {
          "output_type": "execute_result",
          "data": {
            "text/plain": [
              "0     2010\n",
              "1     2012\n",
              "2     2014\n",
              "3     2014\n",
              "4     2013\n",
              "      ... \n",
              "95    2011\n",
              "96    2011\n",
              "97    2016\n",
              "98    2015\n",
              "99    2012\n",
              "Name: Year, Length: 100, dtype: object"
            ]
          },
          "metadata": {},
          "execution_count": 30
        }
      ]
    },
    {
      "cell_type": "code",
      "metadata": {
        "id": "nEB0D0Rs4DUK"
      },
      "source": [
        "dt_trendY =  dt.groupby('Year').sum()['Total Revenue'].reset_index()"
      ],
      "execution_count": 31,
      "outputs": []
    },
    {
      "cell_type": "code",
      "metadata": {
        "id": "FmFVVEev4H0E"
      },
      "source": [
        "plt.figure(figsize=(15,6))\n",
        "plt.plot(dt_trendY['Year'],dt_trendY['Total Revenue'],color = 'pink')\n",
        "plt.xticks(rotation='vertical',size=10)\n",
        "plt.ylabel('Sales')\n",
        "plt.xlabel('Year')\n",
        "plt.show()"
      ],
      "execution_count": null,
      "outputs": []
    },
    {
      "cell_type": "markdown",
      "metadata": {
        "id": "OX5t6-X98wjf"
      },
      "source": [
        "Month wise sales trend"
      ]
    },
    {
      "cell_type": "code",
      "metadata": {
        "colab": {
          "base_uri": "https://localhost:8080/"
        },
        "id": "MOrfQX6W2_Nj",
        "outputId": "a43f5ed2-5332-499e-ce31-004974820d3a"
      },
      "source": [
        "dt['Month'] = dt['Ship Date'].apply(lambda x: x.strftime('%m'))\n",
        "dt['Month']"
      ],
      "execution_count": 21,
      "outputs": [
        {
          "output_type": "execute_result",
          "data": {
            "text/plain": [
              "0     06\n",
              "1     09\n",
              "2     05\n",
              "3     07\n",
              "4     02\n",
              "      ..\n",
              "95    09\n",
              "96    12\n",
              "97    06\n",
              "98    08\n",
              "99    02\n",
              "Name: Month, Length: 100, dtype: object"
            ]
          },
          "metadata": {},
          "execution_count": 21
        }
      ]
    },
    {
      "cell_type": "code",
      "metadata": {
        "id": "5dVHm5eb2gsn"
      },
      "source": [
        "dt_trendM =  dt.groupby('Month').sum()['Total Revenue'].reset_index()\n"
      ],
      "execution_count": 22,
      "outputs": []
    },
    {
      "cell_type": "code",
      "metadata": {
        "id": "XS2wM29c3JsD"
      },
      "source": [
        "plt.figure(figsize=(15,6))\n",
        "plt.plot(dt_trendM['Month'],dt_trendM['Total Revenue'],color = 'c')\n",
        "plt.xticks(rotation='vertical',size=10)\n",
        "plt.ylabel('Sales')\n",
        "plt.xlabel('Montht')\n",
        "plt.show()"
      ],
      "execution_count": null,
      "outputs": []
    },
    {
      "cell_type": "markdown",
      "metadata": {
        "id": "_it6KZAf84A5"
      },
      "source": [
        "Month-Year wise slaes trend"
      ]
    },
    {
      "cell_type": "code",
      "metadata": {
        "colab": {
          "base_uri": "https://localhost:8080/"
        },
        "id": "_dkFBFCL3ZQl",
        "outputId": "45242580-3067-4f9f-fa24-7d09ad17a6b4"
      },
      "source": [
        "\n",
        "dt['month_year'] = dt['Ship Date'].apply(lambda x: x.strftime('%Y,%m'))\n",
        "dt['month_year']"
      ],
      "execution_count": 27,
      "outputs": [
        {
          "output_type": "execute_result",
          "data": {
            "text/plain": [
              "0     2010,06\n",
              "1     2012,09\n",
              "2     2014,05\n",
              "3     2014,07\n",
              "4     2013,02\n",
              "       ...   \n",
              "95    2011,09\n",
              "96    2011,12\n",
              "97    2016,06\n",
              "98    2015,08\n",
              "99    2012,02\n",
              "Name: month_year, Length: 100, dtype: object"
            ]
          },
          "metadata": {},
          "execution_count": 27
        }
      ]
    },
    {
      "cell_type": "code",
      "metadata": {
        "id": "dqeek3it3lM7"
      },
      "source": [
        "dt_trendMY =  dt.groupby('month_year').sum()['Total Revenue'].reset_index()"
      ],
      "execution_count": 28,
      "outputs": []
    },
    {
      "cell_type": "code",
      "metadata": {
        "id": "hmGWbxPJ3lZR"
      },
      "source": [
        "plt.figure(figsize=(15,6))\n",
        "plt.plot(dt_trendMY['month_year'],dt_trendMY['Total Revenue'],color = 'green')\n",
        "plt.xticks(rotation='vertical',size=10)\n",
        "plt.ylabel('Sales')\n",
        "plt.xlabel('Month-Year')\n",
        "plt.show()"
      ],
      "execution_count": null,
      "outputs": []
    },
    {
      "cell_type": "markdown",
      "metadata": {
        "id": "nfUe9fze9iE8"
      },
      "source": [
        "# Done by MD FAYEZ"
      ]
    },
    {
      "cell_type": "markdown",
      "metadata": {
        "id": "Jo-yVEn87zQX"
      },
      "source": [
        "## What are the top 10 products by sales?"
      ]
    },
    {
      "cell_type": "markdown",
      "metadata": {
        "id": "oqgdUu8373Tg"
      },
      "source": [
        "\n",
        "Grouping product name column"
      ]
    },
    {
      "cell_type": "code",
      "metadata": {
        "id": "VP0VDLlN40R_"
      },
      "source": [
        "product_sales = pd.DataFrame(dt.groupby('Item Type').sum()['Total Revenue'])"
      ],
      "execution_count": 35,
      "outputs": []
    },
    {
      "cell_type": "markdown",
      "metadata": {
        "id": "hWYj1Eum77qB"
      },
      "source": [
        "Sorting products sales column"
      ]
    },
    {
      "cell_type": "code",
      "metadata": {
        "id": "sS5eURJI4_xf"
      },
      "source": [
        "\n",
        "product_sales = product_sales.sort_values('Total Revenue',ascending=False)"
      ],
      "execution_count": 36,
      "outputs": []
    },
    {
      "cell_type": "markdown",
      "metadata": {
        "id": "6b8C8XhG8ALL"
      },
      "source": [
        "All product rankings from High to low"
      ]
    },
    {
      "cell_type": "code",
      "metadata": {
        "colab": {
          "base_uri": "https://localhost:8080/",
          "height": 457
        },
        "id": "IifdBVl35Caf",
        "outputId": "79a66323-91b8-4817-eecc-7af9ef26b25f"
      },
      "source": [
        "product_sales[:]"
      ],
      "execution_count": 37,
      "outputs": [
        {
          "output_type": "execute_result",
          "data": {
            "text/html": [
              "<div>\n",
              "<style scoped>\n",
              "    .dataframe tbody tr th:only-of-type {\n",
              "        vertical-align: middle;\n",
              "    }\n",
              "\n",
              "    .dataframe tbody tr th {\n",
              "        vertical-align: top;\n",
              "    }\n",
              "\n",
              "    .dataframe thead th {\n",
              "        text-align: right;\n",
              "    }\n",
              "</style>\n",
              "<table border=\"1\" class=\"dataframe\">\n",
              "  <thead>\n",
              "    <tr style=\"text-align: right;\">\n",
              "      <th></th>\n",
              "      <th>Total Revenue</th>\n",
              "    </tr>\n",
              "    <tr>\n",
              "      <th>Item Type</th>\n",
              "      <th></th>\n",
              "    </tr>\n",
              "  </thead>\n",
              "  <tbody>\n",
              "    <tr>\n",
              "      <th>Cosmetics</th>\n",
              "      <td>36601509.60</td>\n",
              "    </tr>\n",
              "    <tr>\n",
              "      <th>Office Supplies</th>\n",
              "      <td>30585380.07</td>\n",
              "    </tr>\n",
              "    <tr>\n",
              "      <th>Household</th>\n",
              "      <td>29889712.29</td>\n",
              "    </tr>\n",
              "    <tr>\n",
              "      <th>Baby Food</th>\n",
              "      <td>10350327.60</td>\n",
              "    </tr>\n",
              "    <tr>\n",
              "      <th>Clothes</th>\n",
              "      <td>7787292.80</td>\n",
              "    </tr>\n",
              "    <tr>\n",
              "      <th>Cereal</th>\n",
              "      <td>5322898.90</td>\n",
              "    </tr>\n",
              "    <tr>\n",
              "      <th>Meat</th>\n",
              "      <td>4503675.75</td>\n",
              "    </tr>\n",
              "    <tr>\n",
              "      <th>Personal Care</th>\n",
              "      <td>3980904.84</td>\n",
              "    </tr>\n",
              "    <tr>\n",
              "      <th>Vegetables</th>\n",
              "      <td>3089057.06</td>\n",
              "    </tr>\n",
              "    <tr>\n",
              "      <th>Beverages</th>\n",
              "      <td>2690794.60</td>\n",
              "    </tr>\n",
              "    <tr>\n",
              "      <th>Snacks</th>\n",
              "      <td>2080733.46</td>\n",
              "    </tr>\n",
              "    <tr>\n",
              "      <th>Fruits</th>\n",
              "      <td>466481.34</td>\n",
              "    </tr>\n",
              "  </tbody>\n",
              "</table>\n",
              "</div>"
            ],
            "text/plain": [
              "                 Total Revenue\n",
              "Item Type                     \n",
              "Cosmetics          36601509.60\n",
              "Office Supplies    30585380.07\n",
              "Household          29889712.29\n",
              "Baby Food          10350327.60\n",
              "Clothes             7787292.80\n",
              "Cereal              5322898.90\n",
              "Meat                4503675.75\n",
              "Personal Care       3980904.84\n",
              "Vegetables          3089057.06\n",
              "Beverages           2690794.60\n",
              "Snacks              2080733.46\n",
              "Fruits               466481.34"
            ]
          },
          "metadata": {},
          "execution_count": 37
        }
      ]
    },
    {
      "cell_type": "markdown",
      "metadata": {
        "id": "oM8uA80R8Dv4"
      },
      "source": [
        "Top 10 products by sales"
      ]
    },
    {
      "cell_type": "code",
      "metadata": {
        "colab": {
          "base_uri": "https://localhost:8080/",
          "height": 394
        },
        "id": "paAT8FyZ5JiC",
        "outputId": "3d575576-2da1-4d31-91ff-da1e69baf732"
      },
      "source": [
        "product_sales[:10]"
      ],
      "execution_count": 38,
      "outputs": [
        {
          "output_type": "execute_result",
          "data": {
            "text/html": [
              "<div>\n",
              "<style scoped>\n",
              "    .dataframe tbody tr th:only-of-type {\n",
              "        vertical-align: middle;\n",
              "    }\n",
              "\n",
              "    .dataframe tbody tr th {\n",
              "        vertical-align: top;\n",
              "    }\n",
              "\n",
              "    .dataframe thead th {\n",
              "        text-align: right;\n",
              "    }\n",
              "</style>\n",
              "<table border=\"1\" class=\"dataframe\">\n",
              "  <thead>\n",
              "    <tr style=\"text-align: right;\">\n",
              "      <th></th>\n",
              "      <th>Total Revenue</th>\n",
              "    </tr>\n",
              "    <tr>\n",
              "      <th>Item Type</th>\n",
              "      <th></th>\n",
              "    </tr>\n",
              "  </thead>\n",
              "  <tbody>\n",
              "    <tr>\n",
              "      <th>Cosmetics</th>\n",
              "      <td>36601509.60</td>\n",
              "    </tr>\n",
              "    <tr>\n",
              "      <th>Office Supplies</th>\n",
              "      <td>30585380.07</td>\n",
              "    </tr>\n",
              "    <tr>\n",
              "      <th>Household</th>\n",
              "      <td>29889712.29</td>\n",
              "    </tr>\n",
              "    <tr>\n",
              "      <th>Baby Food</th>\n",
              "      <td>10350327.60</td>\n",
              "    </tr>\n",
              "    <tr>\n",
              "      <th>Clothes</th>\n",
              "      <td>7787292.80</td>\n",
              "    </tr>\n",
              "    <tr>\n",
              "      <th>Cereal</th>\n",
              "      <td>5322898.90</td>\n",
              "    </tr>\n",
              "    <tr>\n",
              "      <th>Meat</th>\n",
              "      <td>4503675.75</td>\n",
              "    </tr>\n",
              "    <tr>\n",
              "      <th>Personal Care</th>\n",
              "      <td>3980904.84</td>\n",
              "    </tr>\n",
              "    <tr>\n",
              "      <th>Vegetables</th>\n",
              "      <td>3089057.06</td>\n",
              "    </tr>\n",
              "    <tr>\n",
              "      <th>Beverages</th>\n",
              "      <td>2690794.60</td>\n",
              "    </tr>\n",
              "  </tbody>\n",
              "</table>\n",
              "</div>"
            ],
            "text/plain": [
              "                 Total Revenue\n",
              "Item Type                     \n",
              "Cosmetics          36601509.60\n",
              "Office Supplies    30585380.07\n",
              "Household          29889712.29\n",
              "Baby Food          10350327.60\n",
              "Clothes             7787292.80\n",
              "Cereal              5322898.90\n",
              "Meat                4503675.75\n",
              "Personal Care       3980904.84\n",
              "Vegetables          3089057.06\n",
              "Beverages           2690794.60"
            ]
          },
          "metadata": {},
          "execution_count": 38
        }
      ]
    },
    {
      "cell_type": "markdown",
      "metadata": {
        "id": "FKmOIeGf8I4t"
      },
      "source": [
        "### **Visualizing Top 10 Product with bar chart**"
      ]
    },
    {
      "cell_type": "code",
      "metadata": {
        "id": "f8ZKkeQi4ckc"
      },
      "source": [
        "plt.figure(figsize=(15,6))\n",
        "sns.barplot(x='Item Type', y= 'Total Revenue',\n",
        "            data=dt,palette='rocket')\n",
        "plt.title(\"BAR PLOT SHOWING PRODUCT RANKING BY SALES \")\n",
        "plt.show()"
      ],
      "execution_count": null,
      "outputs": []
    },
    {
      "cell_type": "markdown",
      "metadata": {
        "id": "CZJ2jDLM7n8J"
      },
      "source": [
        "### **Which are the most selling products?**"
      ]
    },
    {
      "cell_type": "markdown",
      "metadata": {
        "id": "RgFVvHW47lOd"
      },
      "source": [
        "Grouping Item type with Units Sold"
      ]
    },
    {
      "cell_type": "code",
      "metadata": {
        "colab": {
          "base_uri": "https://localhost:8080/"
        },
        "id": "wkylqxfX7RJ4",
        "outputId": "537fb8da-1caa-4281-d8f2-ef0b5f9b3331"
      },
      "source": [
        "\n",
        "product_sell = pd.DataFrame(dt.groupby('Item Type').sum()['Units Sold'])\n",
        "print(product_sell)"
      ],
      "execution_count": 52,
      "outputs": [
        {
          "output_type": "stream",
          "name": "stdout",
          "text": [
            "                 Units Sold\n",
            "Item Type                  \n",
            "Baby Food             40545\n",
            "Beverages             56708\n",
            "Cereal                25877\n",
            "Clothes               71260\n",
            "Cosmetics             83718\n",
            "Fruits                49998\n",
            "Household             44727\n",
            "Meat                  10675\n",
            "Office Supplies       46967\n",
            "Personal Care         48708\n",
            "Snacks                13637\n",
            "Vegetables            20051\n"
          ]
        }
      ]
    },
    {
      "cell_type": "markdown",
      "metadata": {
        "id": "DaweK3xi7grU"
      },
      "source": [
        "Sorting most selling products"
      ]
    },
    {
      "cell_type": "code",
      "metadata": {
        "colab": {
          "base_uri": "https://localhost:8080/",
          "height": 457
        },
        "id": "9YQdz1H87Uxv",
        "outputId": "7f10d1fb-1d08-4c3c-de31-0fe4b3f3cd93"
      },
      "source": [
        "product_sell.sort_values('Units Sold',ascending = False)"
      ],
      "execution_count": 53,
      "outputs": [
        {
          "output_type": "execute_result",
          "data": {
            "text/html": [
              "<div>\n",
              "<style scoped>\n",
              "    .dataframe tbody tr th:only-of-type {\n",
              "        vertical-align: middle;\n",
              "    }\n",
              "\n",
              "    .dataframe tbody tr th {\n",
              "        vertical-align: top;\n",
              "    }\n",
              "\n",
              "    .dataframe thead th {\n",
              "        text-align: right;\n",
              "    }\n",
              "</style>\n",
              "<table border=\"1\" class=\"dataframe\">\n",
              "  <thead>\n",
              "    <tr style=\"text-align: right;\">\n",
              "      <th></th>\n",
              "      <th>Units Sold</th>\n",
              "    </tr>\n",
              "    <tr>\n",
              "      <th>Item Type</th>\n",
              "      <th></th>\n",
              "    </tr>\n",
              "  </thead>\n",
              "  <tbody>\n",
              "    <tr>\n",
              "      <th>Cosmetics</th>\n",
              "      <td>83718</td>\n",
              "    </tr>\n",
              "    <tr>\n",
              "      <th>Clothes</th>\n",
              "      <td>71260</td>\n",
              "    </tr>\n",
              "    <tr>\n",
              "      <th>Beverages</th>\n",
              "      <td>56708</td>\n",
              "    </tr>\n",
              "    <tr>\n",
              "      <th>Fruits</th>\n",
              "      <td>49998</td>\n",
              "    </tr>\n",
              "    <tr>\n",
              "      <th>Personal Care</th>\n",
              "      <td>48708</td>\n",
              "    </tr>\n",
              "    <tr>\n",
              "      <th>Office Supplies</th>\n",
              "      <td>46967</td>\n",
              "    </tr>\n",
              "    <tr>\n",
              "      <th>Household</th>\n",
              "      <td>44727</td>\n",
              "    </tr>\n",
              "    <tr>\n",
              "      <th>Baby Food</th>\n",
              "      <td>40545</td>\n",
              "    </tr>\n",
              "    <tr>\n",
              "      <th>Cereal</th>\n",
              "      <td>25877</td>\n",
              "    </tr>\n",
              "    <tr>\n",
              "      <th>Vegetables</th>\n",
              "      <td>20051</td>\n",
              "    </tr>\n",
              "    <tr>\n",
              "      <th>Snacks</th>\n",
              "      <td>13637</td>\n",
              "    </tr>\n",
              "    <tr>\n",
              "      <th>Meat</th>\n",
              "      <td>10675</td>\n",
              "    </tr>\n",
              "  </tbody>\n",
              "</table>\n",
              "</div>"
            ],
            "text/plain": [
              "                 Units Sold\n",
              "Item Type                  \n",
              "Cosmetics             83718\n",
              "Clothes               71260\n",
              "Beverages             56708\n",
              "Fruits                49998\n",
              "Personal Care         48708\n",
              "Office Supplies       46967\n",
              "Household             44727\n",
              "Baby Food             40545\n",
              "Cereal                25877\n",
              "Vegetables            20051\n",
              "Snacks                13637\n",
              "Meat                  10675"
            ]
          },
          "metadata": {},
          "execution_count": 53
        }
      ]
    },
    {
      "cell_type": "code",
      "metadata": {
        "id": "__qifi5c7ZEw"
      },
      "source": [
        "plt.figure(figsize=(20,6))\n",
        "sns.barplot(x='Item Type',y='Units Sold',data=dt,palette='mako')\n",
        "plt.title('Most selling items')\n",
        "plt.show()"
      ],
      "execution_count": null,
      "outputs": []
    },
    {
      "cell_type": "markdown",
      "metadata": {
        "id": "C2djXQj369OP"
      },
      "source": [
        "\n",
        "### **count of offline vs online sales**"
      ]
    },
    {
      "cell_type": "code",
      "metadata": {
        "id": "LQndjfA55IJR"
      },
      "source": [
        "\n",
        "plt.figure(figsize=(5,2))\n",
        "sns.countplot(dt['Sales Channel'])\n",
        "plt.title('Count of offline and online sales')\n",
        "plt.show()"
      ],
      "execution_count": null,
      "outputs": []
    },
    {
      "cell_type": "markdown",
      "metadata": {
        "id": "NMxVE-pV68EY"
      },
      "source": [
        "### Ckecing which Sales Channel has higher revenue"
      ]
    },
    {
      "cell_type": "code",
      "metadata": {
        "id": "Qe8PPk565j1G"
      },
      "source": [
        "\n",
        "sns.barplot(x='Sales Channel',y='Total Revenue',data = dt,ci=None,palette=\"Blues_d\")"
      ],
      "execution_count": null,
      "outputs": []
    },
    {
      "cell_type": "markdown",
      "metadata": {
        "id": "WC8P8Q6-7Gnp"
      },
      "source": [
        "## **Overall best shipping mode is offline as it gave us more revenue**"
      ]
    },
    {
      "cell_type": "markdown",
      "metadata": {
        "id": "S6EC60wh6rAw"
      },
      "source": [
        "Which is the most profitable category and sub-category grouping item with profit"
      ]
    },
    {
      "cell_type": "code",
      "metadata": {
        "colab": {
          "base_uri": "https://localhost:8080/",
          "height": 457
        },
        "id": "IQNUTVgF50do",
        "outputId": "37c328fa-23dd-47b7-809f-5bbde7f0dec9"
      },
      "source": [
        "\n",
        "Item_profit = pd.DataFrame(dt.groupby(['Item Type']).sum()['Total Profit'])\n",
        "\n",
        "Item_profit.sort_values(['Item Type'],ascending = True)"
      ],
      "execution_count": 47,
      "outputs": [
        {
          "output_type": "execute_result",
          "data": {
            "text/html": [
              "<div>\n",
              "<style scoped>\n",
              "    .dataframe tbody tr th:only-of-type {\n",
              "        vertical-align: middle;\n",
              "    }\n",
              "\n",
              "    .dataframe tbody tr th {\n",
              "        vertical-align: top;\n",
              "    }\n",
              "\n",
              "    .dataframe thead th {\n",
              "        text-align: right;\n",
              "    }\n",
              "</style>\n",
              "<table border=\"1\" class=\"dataframe\">\n",
              "  <thead>\n",
              "    <tr style=\"text-align: right;\">\n",
              "      <th></th>\n",
              "      <th>Total Profit</th>\n",
              "    </tr>\n",
              "    <tr>\n",
              "      <th>Item Type</th>\n",
              "      <th></th>\n",
              "    </tr>\n",
              "  </thead>\n",
              "  <tbody>\n",
              "    <tr>\n",
              "      <th>Baby Food</th>\n",
              "      <td>3886643.70</td>\n",
              "    </tr>\n",
              "    <tr>\n",
              "      <th>Beverages</th>\n",
              "      <td>888047.28</td>\n",
              "    </tr>\n",
              "    <tr>\n",
              "      <th>Cereal</th>\n",
              "      <td>2292443.43</td>\n",
              "    </tr>\n",
              "    <tr>\n",
              "      <th>Clothes</th>\n",
              "      <td>5233334.40</td>\n",
              "    </tr>\n",
              "    <tr>\n",
              "      <th>Cosmetics</th>\n",
              "      <td>14556048.66</td>\n",
              "    </tr>\n",
              "    <tr>\n",
              "      <th>Fruits</th>\n",
              "      <td>120495.18</td>\n",
              "    </tr>\n",
              "    <tr>\n",
              "      <th>Household</th>\n",
              "      <td>7412605.71</td>\n",
              "    </tr>\n",
              "    <tr>\n",
              "      <th>Meat</th>\n",
              "      <td>610610.00</td>\n",
              "    </tr>\n",
              "    <tr>\n",
              "      <th>Office Supplies</th>\n",
              "      <td>5929583.75</td>\n",
              "    </tr>\n",
              "    <tr>\n",
              "      <th>Personal Care</th>\n",
              "      <td>1220622.48</td>\n",
              "    </tr>\n",
              "    <tr>\n",
              "      <th>Snacks</th>\n",
              "      <td>751944.18</td>\n",
              "    </tr>\n",
              "    <tr>\n",
              "      <th>Vegetables</th>\n",
              "      <td>1265819.63</td>\n",
              "    </tr>\n",
              "  </tbody>\n",
              "</table>\n",
              "</div>"
            ],
            "text/plain": [
              "                 Total Profit\n",
              "Item Type                    \n",
              "Baby Food          3886643.70\n",
              "Beverages           888047.28\n",
              "Cereal             2292443.43\n",
              "Clothes            5233334.40\n",
              "Cosmetics         14556048.66\n",
              "Fruits              120495.18\n",
              "Household          7412605.71\n",
              "Meat                610610.00\n",
              "Office Supplies    5929583.75\n",
              "Personal Care      1220622.48\n",
              "Snacks              751944.18\n",
              "Vegetables         1265819.63"
            ]
          },
          "metadata": {},
          "execution_count": 47
        }
      ]
    },
    {
      "cell_type": "code",
      "metadata": {
        "id": "i4R8Hawb55B3"
      },
      "source": [
        "plt.figure(figsize=(15,6))\n",
        "sns.barplot(x='Item Type',y='Total Profit',data=dt,color=\"blue\", saturation=.5,ci=None)\n",
        "plt.title(\"Items with profit\")"
      ],
      "execution_count": null,
      "outputs": []
    },
    {
      "cell_type": "code",
      "metadata": {
        "id": "8eTVpmmE6G_R"
      },
      "source": [
        "\n",
        "plt.figure(figsize=(15,6))\n",
        "sns.barplot(x='Item Type',y='Total Profit',data=dt,color=\"blue\", saturation=.5,ci=None,hue = 'Order Priority')\n",
        "plt.title(\"Items with profit\")"
      ],
      "execution_count": null,
      "outputs": []
    },
    {
      "cell_type": "markdown",
      "metadata": {
        "id": "7-PPWIPq6d-M"
      },
      "source": [
        "## **PLot showing items with total profit by order priority**"
      ]
    },
    {
      "cell_type": "code",
      "metadata": {
        "id": "XMuGdHVV6Uuf"
      },
      "source": [
        "plt.figure(figsize=(15,6))\n",
        "sns.barplot(x='Item Type',y='Total Profit',data=dt,color=\"orange\", saturation=.5,ci=None,hue = 'Order Priority')\n",
        "plt.title(\"Items with profit\")"
      ],
      "execution_count": null,
      "outputs": []
    },
    {
      "cell_type": "markdown",
      "metadata": {
        "id": "WMr5ifYs9THm"
      },
      "source": [
        "## **Done by AJAY KHATRI**"
      ]
    }
  ]
}